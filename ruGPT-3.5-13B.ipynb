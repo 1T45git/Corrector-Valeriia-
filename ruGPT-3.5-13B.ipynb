{
 "cells": [
  {
   "cell_type": "code",
   "execution_count": null,
   "id": "9953801e-cf81-4911-ba94-1f86ebe4f1d3",
   "metadata": {},
   "outputs": [],
   "source": [
    "!pip install torch transformers accelerate\n"
   ]
  },
  {
   "cell_type": "code",
   "execution_count": null,
   "id": "7ef6ea1c-c9a5-48e3-9c2d-df14c03ae1de",
   "metadata": {},
   "outputs": [],
   "source": [
    "from transformers import AutoModelForCausalLM, AutoTokenizer\n",
    "import torch\n",
    "\n",
    "# Название модели\n",
    "model_name = \"ai-forever/ruGPT-3.5-13B\"\n",
    "\n",
    "# Загрузка токенизатора и модели\n",
    "tokenizer = AutoTokenizer.from_pretrained(model_name)\n",
    "model = AutoModelForCausalLM.from_pretrained(model_name, \n",
    "                                             torch_dtype=torch.float16, \n",
    "                                             device_map=\"auto\")\n",
    "\n",
    "print(\"Модель успешно загружена!\")\n"
   ]
  },
  {
   "cell_type": "code",
   "execution_count": null,
   "id": "8b256325-94dd-466b-adc6-6d6b7d76127d",
   "metadata": {},
   "outputs": [],
   "source": [
    "def correct_text(input_text: str) -> str:\n",
    "    \"\"\"Использует ruGPT-3.5-13B для исправления ошибок в тексте.\"\"\"\n",
    "    \n",
    "    prompt = f\"Исправь ошибки в тексте: {input_text}\\nИсправленный текст:\"\n",
    "    \n",
    "    # Токенизация ввода\n",
    "    input_ids = tokenizer(prompt, return_tensors=\"pt\").input_ids.to(model.device)\n",
    "    \n",
    "    # Генерация исправленного текста\n",
    "    with torch.no_grad():\n",
    "        output_ids = model.generate(\n",
    "            input_ids,\n",
    "            max_length=512,\n",
    "            temperature=0.7,\n",
    "            top_p=0.9,\n",
    "            do_sample=True\n",
    "        )\n",
    "\n",
    "    # Декодирование результата\n",
    "    output_text = tokenizer.decode(output_ids[0], skip_special_tokens=True)\n",
    "    \n",
    "    # Очистка текста от промпта\n",
    "    corrected_text = output_text.split(\"Исправленный текст:\")[-1].strip()\n",
    "    \n",
    "    return corrected_text\n"
   ]
  },
  {
   "cell_type": "code",
   "execution_count": null,
   "id": "f2d99fc9-fc88-4d81-803a-b6f3dcf35506",
   "metadata": {},
   "outputs": [],
   "source": [
    "# Пример текста с ошибками\n",
    "input_text = \"Я напесал ету програму для исравления ашибок.\"\n",
    "\n",
    "# Исправляем\n",
    "corrected = correct_text(input_text)\n",
    "\n",
    "print(f\"Исходный текст: {input_text}\")\n",
    "print(f\"Исправленный текст: {corrected}\")\n"
   ]
  },
  {
   "cell_type": "code",
   "execution_count": null,
   "id": "e995bd5b-3f53-421e-9125-030335f3313e",
   "metadata": {},
   "outputs": [],
   "source": []
  }
 ],
 "metadata": {
  "kernelspec": {
   "display_name": "Python 3 (ipykernel)",
   "language": "python",
   "name": "python3"
  },
  "language_info": {
   "codemirror_mode": {
    "name": "ipython",
    "version": 3
   },
   "file_extension": ".py",
   "mimetype": "text/x-python",
   "name": "python",
   "nbconvert_exporter": "python",
   "pygments_lexer": "ipython3",
   "version": "3.11.8"
  }
 },
 "nbformat": 4,
 "nbformat_minor": 5
}
